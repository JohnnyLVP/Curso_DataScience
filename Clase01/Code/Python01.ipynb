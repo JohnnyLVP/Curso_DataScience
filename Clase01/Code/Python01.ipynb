{
  "nbformat": 4,
  "nbformat_minor": 0,
  "metadata": {
    "colab": {
      "name": "Untitled0.ipynb",
      "version": "0.3.2",
      "provenance": [],
      "include_colab_link": true
    },
    "kernelspec": {
      "name": "python3",
      "display_name": "Python 3"
    }
  },
  "cells": [
    {
      "cell_type": "markdown",
      "metadata": {
        "id": "view-in-github",
        "colab_type": "text"
      },
      "source": [
        "<a href=\"https://colab.research.google.com/github/JohnnyLVP/Curso_DataScience/blob/master/Clase01/Code/Python01.ipynb\" target=\"_parent\"><img src=\"https://colab.research.google.com/assets/colab-badge.svg\" alt=\"Open In Colab\"/></a>"
      ]
    },
    {
      "metadata": {
        "id": "77vin2YLMrA8",
        "colab_type": "text"
      },
      "cell_type": "markdown",
      "source": [
        ""
      ]
    },
    {
      "metadata": {
        "id": "y4v0eIy0MuTh",
        "colab_type": "text"
      },
      "cell_type": "markdown",
      "source": [
        "# Python, First Steps!"
      ]
    },
    {
      "metadata": {
        "id": "421_iEx7M8Oo",
        "colab_type": "text"
      },
      "cell_type": "markdown",
      "source": [
        "Aca el profe, empezo a hacer los Hola Mundo en Python XD"
      ]
    },
    {
      "metadata": {
        "id": "C7on3ZgRMzpQ",
        "colab_type": "code",
        "colab": {
          "base_uri": "https://localhost:8080/",
          "height": 34
        },
        "outputId": "d5f668ef-1178-4771-d9ce-baf603af5de5"
      },
      "cell_type": "code",
      "source": [
        "print('REVIT')"
      ],
      "execution_count": 3,
      "outputs": [
        {
          "output_type": "stream",
          "text": [
            "REVIT\n"
          ],
          "name": "stdout"
        }
      ]
    }
  ]
}