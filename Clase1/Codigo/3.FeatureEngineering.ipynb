{
 "cells": [
  {
   "cell_type": "markdown",
   "metadata": {
    "id": "view-in-github",
    "colab_type": "text"
   },
   "source": [
    "<a href=\"https://colab.research.google.com/github/JohnnyLVP/Curso_DataScience/blob/master/Clase1/Code/FeatureEngineering.ipynb\" target=\"_parent\"><img src=\"https://colab.research.google.com/assets/colab-badge.svg\" alt=\"Open In Colab\"/></a>"
   ]
  },
  {
   "cell_type": "markdown",
   "metadata": {
    "id": "Xh755CTo8bvA",
    "colab_type": "text"
   },
   "source": [
    "# Feature Selection"
   ]
  },
  {
   "cell_type": "code",
   "execution_count": 10,
   "metadata": {
    "id": "xKyd55BW51qh",
    "colab_type": "code",
    "colab": {
     "base_uri": "https://localhost:8080/",
     "height": 34.0
    },
    "outputId": "859c8b0d-7f2f-46f6-86dc-f98d66f4eb61"
   },
   "outputs": [
    {
     "name": "stdout",
     "output_type": "stream",
     "text": [
      "[ 10.81782088   3.59449902 116.16984746  67.24482759]\n"
     ]
    }
   ],
   "source": [
    "from sklearn.feature_selection import SelectKBest\n",
    "from sklearn.feature_selection import chi2\n",
    "import pandas as pd\n",
    "\n",
    "df = pd.read_csv('iris.csv')\n",
    "\n",
    "\n",
    "X = df[['sepal_length','sepal_width','petal_length', 'petal_width']] #Esta en mayuscula pues es una matriz\n",
    "\n",
    "y = df['species'] # Esta en minuscula ya que es un vector\n",
    "\n",
    "selector = SelectKBest(score_func = chi2, k=4)\n",
    "fit = selector.fit(X,y)\n",
    "print(fit.scores_) #Te dicta la importancia de las variables respecto a y, mientras mas puntaje mas importante."
   ]
  },
  {
   "cell_type": "markdown",
   "metadata": {
    "id": "Izqpyo4sC7Py",
    "colab_type": "text"
   },
   "source": [
    "# Feature Importance\n",
    "\n",
    "Encontrar un subconjunto de caracteristicas consideradas las mas importantes para el performances del modelo. Te da un ranking de mayor a menor importancia."
   ]
  },
  {
   "cell_type": "code",
   "execution_count": 0,
   "metadata": {
    "id": "3qqGABxlC3Oe",
    "colab_type": "code",
    "colab": {}
   },
   "outputs": [],
   "source": [
    "# Aqui el profesor frego mi codigo, ya que copio todo su codigo guardado aca."
   ]
  },
  {
   "cell_type": "markdown",
   "metadata": {
    "id": "VQyL3iIoFaP_",
    "colab_type": "text"
   },
   "source": [
    "# Modeling \n",
    "\n",
    "Dividir mi dataset en Training and Test, luego probar varios algoritmos por modelo, es decir tenga mayor score."
   ]
  },
  {
   "cell_type": "code",
   "execution_count": 25,
   "metadata": {
    "id": "Nlbn9SWNLNLL",
    "colab_type": "code",
    "colab": {
     "base_uri": "https://localhost:8080/",
     "height": 122.0
    },
    "outputId": "e824955a-0880-44e2-e5a1-5d2dc019783e"
   },
   "outputs": [
    {
     "name": "stderr",
     "output_type": "stream",
     "text": [
      "/usr/local/lib/python3.6/dist-packages/sklearn/linear_model/logistic.py:433: FutureWarning: Default solver will be changed to 'lbfgs' in 0.22. Specify a solver to silence this warning.\n",
      "  FutureWarning)\n",
      "/usr/local/lib/python3.6/dist-packages/sklearn/linear_model/logistic.py:460: FutureWarning: Default multi_class will be changed to 'auto' in 0.22. Specify the multi_class option to silence this warning.\n",
      "  \"this warning.\", FutureWarning)\n"
     ]
    },
    {
     "data": {
      "text/plain": [
       "0.9333333333333333"
      ]
     },
     "execution_count": 25,
     "metadata": {
      "tags": []
     },
     "output_type": "execute_result"
    }
   ],
   "source": [
    "#Modelo de Clasificacion\n",
    "from sklearn.linear_model import LogisticRegression\n",
    "#Dividir nuestro dataset\n",
    "from sklearn import model_selection\n",
    "\n",
    "seed = 2#Semilla: Ayuda a fijar los resultados, para que sean unicos. Modelos con el mismo seed son comparables. El mismo conjunto de train y Test para todas las pruebas.\n",
    "\n",
    "X_train,X_test,y_train,y_test = model_selection.train_test_split(X, y, test_size = 0.3, random_state = seed)\n",
    "\n",
    "model = LogisticRegression()\n",
    "model.fit(X_train,y_train)\n",
    "\n",
    "score = model.score(X_test, y_test)\n",
    "\n",
    "score "
   ]
  }
 ],
 "metadata": {
  "colab": {
   "name": "FeatureEngineering.ipynb",
   "version": "0.3.2",
   "provenance": [],
   "include_colab_link": true
  },
  "kernelspec": {
   "name": "python3",
   "display_name": "Python 3"
  }
 },
 "nbformat": 4,
 "nbformat_minor": 0
}
