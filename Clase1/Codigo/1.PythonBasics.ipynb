{
  "nbformat": 4,
  "nbformat_minor": 0,
  "metadata": {
    "colab": {
      "name": "Untitled0.ipynb",
      "version": "0.3.2",
      "provenance": [],
      "collapsed_sections": [],
      "include_colab_link": true
    },
    "kernelspec": {
      "name": "python3",
      "display_name": "Python 3"
    }
  },
  "cells": [
    {
      "cell_type": "markdown",
      "metadata": {
        "id": "view-in-github",
        "colab_type": "text"
      },
      "source": [
        "<a href=\"https://colab.research.google.com/github/JohnnyLVP/Curso_DataScience/blob/master/Clase1/Code/python01.ipynb\" target=\"_parent\"><img src=\"https://colab.research.google.com/assets/colab-badge.svg\" alt=\"Open In Colab\"/></a>"
      ]
    },
    {
      "metadata": {
        "id": "77vin2YLMrA8",
        "colab_type": "text"
      },
      "cell_type": "markdown",
      "source": [
        ""
      ]
    },
    {
      "metadata": {
        "id": "y4v0eIy0MuTh",
        "colab_type": "text"
      },
      "cell_type": "markdown",
      "source": [
        "# Python, First Steps!"
      ]
    },
    {
      "metadata": {
        "id": "421_iEx7M8Oo",
        "colab_type": "text"
      },
      "cell_type": "markdown",
      "source": [
        "Aca el profe, empezo a hacer los Hola Mundo en Python XD"
      ]
    },
    {
      "metadata": {
        "id": "C7on3ZgRMzpQ",
        "colab_type": "code",
        "colab": {
          "base_uri": "https://localhost:8080/",
          "height": 34
        },
        "outputId": "d5f668ef-1178-4771-d9ce-baf603af5de5"
      },
      "cell_type": "code",
      "source": [
        "print('REVIT')"
      ],
      "execution_count": 3,
      "outputs": [
        {
          "output_type": "stream",
          "text": [
            "REVIT\n"
          ],
          "name": "stdout"
        }
      ]
    },
    {
      "metadata": {
        "id": "c0vHnb7COQ5a",
        "colab_type": "text"
      },
      "cell_type": "markdown",
      "source": [
        "# Imports"
      ]
    },
    {
      "metadata": {
        "id": "jkG_dJlXO8WO",
        "colab_type": "code",
        "colab": {
          "base_uri": "https://localhost:8080/",
          "height": 34
        },
        "outputId": "5e650273-bdd4-4771-ede1-2978444f20de"
      },
      "cell_type": "code",
      "source": [
        "import math\n",
        "\n",
        "math.pi"
      ],
      "execution_count": 7,
      "outputs": [
        {
          "output_type": "execute_result",
          "data": {
            "text/plain": [
              "3.141592653589793"
            ]
          },
          "metadata": {
            "tags": []
          },
          "execution_count": 7
        }
      ]
    },
    {
      "metadata": {
        "id": "GBDphxY6Pmxl",
        "colab_type": "code",
        "colab": {
          "base_uri": "https://localhost:8080/",
          "height": 34
        },
        "outputId": "159b72db-21d1-4c74-c11f-3ee56eba1771"
      },
      "cell_type": "code",
      "source": [
        "math.cos(math.pi/2) #Viendo el tamaño de error de calculo en Python"
      ],
      "execution_count": 8,
      "outputs": [
        {
          "output_type": "execute_result",
          "data": {
            "text/plain": [
              "6.123233995736766e-17"
            ]
          },
          "metadata": {
            "tags": []
          },
          "execution_count": 8
        }
      ]
    },
    {
      "metadata": {
        "id": "mtWH7S3dQDcv",
        "colab_type": "code",
        "colab": {
          "base_uri": "https://localhost:8080/",
          "height": 935
        },
        "outputId": "e251d612-f107-4f8c-92eb-7432d015e691"
      },
      "cell_type": "code",
      "source": [
        "from math import *\n",
        "\n",
        "\n",
        "dir(math) #Para ver todas las funciones disponibles en la libreria"
      ],
      "execution_count": 13,
      "outputs": [
        {
          "output_type": "execute_result",
          "data": {
            "text/plain": [
              "['__doc__',\n",
              " '__loader__',\n",
              " '__name__',\n",
              " '__package__',\n",
              " '__spec__',\n",
              " 'acos',\n",
              " 'acosh',\n",
              " 'asin',\n",
              " 'asinh',\n",
              " 'atan',\n",
              " 'atan2',\n",
              " 'atanh',\n",
              " 'ceil',\n",
              " 'copysign',\n",
              " 'cos',\n",
              " 'cosh',\n",
              " 'degrees',\n",
              " 'e',\n",
              " 'erf',\n",
              " 'erfc',\n",
              " 'exp',\n",
              " 'expm1',\n",
              " 'fabs',\n",
              " 'factorial',\n",
              " 'floor',\n",
              " 'fmod',\n",
              " 'frexp',\n",
              " 'fsum',\n",
              " 'gamma',\n",
              " 'gcd',\n",
              " 'hypot',\n",
              " 'inf',\n",
              " 'isclose',\n",
              " 'isfinite',\n",
              " 'isinf',\n",
              " 'isnan',\n",
              " 'ldexp',\n",
              " 'lgamma',\n",
              " 'log',\n",
              " 'log10',\n",
              " 'log1p',\n",
              " 'log2',\n",
              " 'modf',\n",
              " 'nan',\n",
              " 'pi',\n",
              " 'pow',\n",
              " 'radians',\n",
              " 'sin',\n",
              " 'sinh',\n",
              " 'sqrt',\n",
              " 'tan',\n",
              " 'tanh',\n",
              " 'tau',\n",
              " 'trunc']"
            ]
          },
          "metadata": {
            "tags": []
          },
          "execution_count": 13
        }
      ]
    },
    {
      "metadata": {
        "id": "MCk2XBAkRCyJ",
        "colab_type": "text"
      },
      "cell_type": "markdown",
      "source": [
        "# Data Types"
      ]
    },
    {
      "metadata": {
        "id": "RYQW2rEoRFjZ",
        "colab_type": "code",
        "colab": {
          "base_uri": "https://localhost:8080/",
          "height": 85
        },
        "outputId": "b1c0881b-37c6-4cf8-c033-0ae70e87ceec"
      },
      "cell_type": "code",
      "source": [
        "text_v = \"Curso\"\n",
        "\n",
        "print(type(text_v))\n",
        "\n",
        "int_v = 25\n",
        "\n",
        "print(type(int_v))\n",
        "\n",
        "bool_v = False \n",
        "\n",
        "print(type(bool_v))\n",
        "\n",
        "#Convirtiendo tipo de datos\n",
        "##Ejemplo de Booleano a Entero\n",
        "\n",
        "print('Cambiando el booleano : {}, a entero: {}'.format(bool_v,int(bool_v)))"
      ],
      "execution_count": 22,
      "outputs": [
        {
          "output_type": "stream",
          "text": [
            "<class 'str'>\n",
            "<class 'int'>\n",
            "<class 'bool'>\n",
            "Cambiando el booleano : False, a entero: 0\n"
          ],
          "name": "stdout"
        }
      ]
    },
    {
      "metadata": {
        "id": "45Sughn3fZvE",
        "colab_type": "text"
      },
      "cell_type": "markdown",
      "source": [
        "# Estructura de Datos"
      ]
    },
    {
      "metadata": {
        "id": "-i3uQIWugEfj",
        "colab_type": "text"
      },
      "cell_type": "markdown",
      "source": [
        "## Strings: Cadena de Caracteres"
      ]
    },
    {
      "metadata": {
        "id": "y-V0glTjfYgi",
        "colab_type": "code",
        "colab": {
          "base_uri": "https://localhost:8080/",
          "height": 34
        },
        "outputId": "1d3c38b5-6740-48c0-e36c-1c12f6d81179"
      },
      "cell_type": "code",
      "source": [
        "str_v = \"Johnny Valenzuela\"\n",
        "\n",
        "print(str_v[-1])"
      ],
      "execution_count": 29,
      "outputs": [
        {
          "output_type": "stream",
          "text": [
            "a\n"
          ],
          "name": "stdout"
        }
      ]
    },
    {
      "metadata": {
        "id": "50nDrxUQgZer",
        "colab_type": "code",
        "colab": {
          "base_uri": "https://localhost:8080/",
          "height": 51
        },
        "outputId": "5d3c416b-7c21-4832-9e78-90f6e2a86415"
      },
      "cell_type": "code",
      "source": [
        "print(str_v.split()) #Using Split\n",
        "\n",
        "str_v = str_v.replace('Johnny','Leandro') #Using Replace function\n",
        "\n",
        "print(str_v)"
      ],
      "execution_count": 35,
      "outputs": [
        {
          "output_type": "stream",
          "text": [
            "['Johnny', 'Valenzuela']\n",
            "Leandro Valenzuela\n"
          ],
          "name": "stdout"
        }
      ]
    },
    {
      "metadata": {
        "id": "dvoccpYuiYcm",
        "colab_type": "text"
      },
      "cell_type": "markdown",
      "source": [
        "## Listas"
      ]
    },
    {
      "metadata": {
        "id": "dJuBd9iMiXUP",
        "colab_type": "code",
        "colab": {
          "base_uri": "https://localhost:8080/",
          "height": 85
        },
        "outputId": "cdd7cf45-79b8-4ce9-b4cd-4ed9833b6987"
      },
      "cell_type": "code",
      "source": [
        "list_v = [1,2,'Johnny',False]\n",
        "\n",
        "print(type(list_v)) # Type of variable\n",
        "\n",
        "print(len(list_v)) #Lenght of variable\n",
        "\n",
        "print(list_v[-1]) #Variable Position\n",
        "\n",
        "list_v.append('Valenzuela') #Agregando Valores a la lista\n",
        "\n",
        "print(list_v)"
      ],
      "execution_count": 41,
      "outputs": [
        {
          "output_type": "stream",
          "text": [
            "<class 'list'>\n",
            "4\n",
            "False\n",
            "[1, 2, 'Johnny', False, 'Valenzuela']\n"
          ],
          "name": "stdout"
        }
      ]
    },
    {
      "metadata": {
        "id": "9BPAQEXUjFVp",
        "colab_type": "code",
        "colab": {
          "base_uri": "https://localhost:8080/",
          "height": 34
        },
        "outputId": "4fba133d-062e-4728-d33a-495d6b97c793"
      },
      "cell_type": "code",
      "source": [
        "list_r = list(range(10))\n",
        "\n",
        "print(list_r)"
      ],
      "execution_count": 46,
      "outputs": [
        {
          "output_type": "stream",
          "text": [
            "[0, 1, 2, 3, 4, 5, 6, 7, 8, 9]\n"
          ],
          "name": "stdout"
        }
      ]
    },
    {
      "metadata": {
        "id": "yAd8nuh9iTpA",
        "colab_type": "text"
      },
      "cell_type": "markdown",
      "source": [
        "## Diccionarios"
      ]
    },
    {
      "metadata": {
        "id": "If3dvoxSjVf9",
        "colab_type": "code",
        "colab": {
          "base_uri": "https://localhost:8080/",
          "height": 34
        },
        "outputId": "a2fb1ca0-e3da-49d4-8cc5-62229ea06f1d"
      },
      "cell_type": "code",
      "source": [
        "dict_v = {'Nombre': 'Johnny', 'Edad':25}\n",
        "dict_v"
      ],
      "execution_count": 48,
      "outputs": [
        {
          "output_type": "execute_result",
          "data": {
            "text/plain": [
              "{'Edad': 25, 'Nombre': 'Johnny'}"
            ]
          },
          "metadata": {
            "tags": []
          },
          "execution_count": 48
        }
      ]
    },
    {
      "metadata": {
        "id": "oVkOxZIamVKO",
        "colab_type": "text"
      },
      "cell_type": "markdown",
      "source": [
        "## Condicionales y Bucles"
      ]
    },
    {
      "metadata": {
        "id": "lY1t6OVVj3Pg",
        "colab_type": "code",
        "colab": {
          "base_uri": "https://localhost:8080/",
          "height": 187
        },
        "outputId": "2d756a89-8179-4b61-c385-e626bcac0b16"
      },
      "cell_type": "code",
      "source": [
        "archivos = ['files'+str(num) for num in range(10)]\n",
        "\n",
        "archivos"
      ],
      "execution_count": 49,
      "outputs": [
        {
          "output_type": "execute_result",
          "data": {
            "text/plain": [
              "['files0',\n",
              " 'files1',\n",
              " 'files2',\n",
              " 'files3',\n",
              " 'files4',\n",
              " 'files5',\n",
              " 'files6',\n",
              " 'files7',\n",
              " 'files8',\n",
              " 'files9']"
            ]
          },
          "metadata": {
            "tags": []
          },
          "execution_count": 49
        }
      ]
    },
    {
      "metadata": {
        "id": "1gIB2k94m--2",
        "colab_type": "code",
        "colab": {
          "base_uri": "https://localhost:8080/",
          "height": 34
        },
        "outputId": "02af154d-50b3-4feb-ac39-0cbb091502c6"
      },
      "cell_type": "code",
      "source": [
        "archivos = []\n",
        "\n",
        "for num in range(3):\n",
        "  archivos.append('file {}'.format(num))\n",
        "  \n",
        "archivos"
      ],
      "execution_count": 51,
      "outputs": [
        {
          "output_type": "execute_result",
          "data": {
            "text/plain": [
              "['file 0', 'file 1', 'file 2']"
            ]
          },
          "metadata": {
            "tags": []
          },
          "execution_count": 51
        }
      ]
    }
  ]
}