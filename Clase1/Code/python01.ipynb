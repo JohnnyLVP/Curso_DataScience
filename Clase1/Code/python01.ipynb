{
  "nbformat": 4,
  "nbformat_minor": 0,
  "metadata": {
    "colab": {
      "name": "Untitled0.ipynb",
      "version": "0.3.2",
      "provenance": [],
      "collapsed_sections": [],
      "include_colab_link": true
    },
    "kernelspec": {
      "name": "python3",
      "display_name": "Python 3"
    }
  },
  "cells": [
    {
      "cell_type": "markdown",
      "metadata": {
        "id": "view-in-github",
        "colab_type": "text"
      },
      "source": [
        "<a href=\"https://colab.research.google.com/github/JohnnyLVP/Curso_DataScience/blob/master/Clase1/Code/python01.ipynb\" target=\"_parent\"><img src=\"https://colab.research.google.com/assets/colab-badge.svg\" alt=\"Open In Colab\"/></a>"
      ]
    },
    {
      "metadata": {
        "id": "77vin2YLMrA8",
        "colab_type": "text"
      },
      "cell_type": "markdown",
      "source": [
        ""
      ]
    },
    {
      "metadata": {
        "id": "y4v0eIy0MuTh",
        "colab_type": "text"
      },
      "cell_type": "markdown",
      "source": [
        "# Python, First Steps!"
      ]
    },
    {
      "metadata": {
        "id": "421_iEx7M8Oo",
        "colab_type": "text"
      },
      "cell_type": "markdown",
      "source": [
        "Aca el profe, empezo a hacer los Hola Mundo en Python XD"
      ]
    },
    {
      "metadata": {
        "id": "C7on3ZgRMzpQ",
        "colab_type": "code",
        "colab": {
          "base_uri": "https://localhost:8080/",
          "height": 34
        },
        "outputId": "d5f668ef-1178-4771-d9ce-baf603af5de5"
      },
      "cell_type": "code",
      "source": [
        "print('REVIT')"
      ],
      "execution_count": 3,
      "outputs": [
        {
          "output_type": "stream",
          "text": [
            "REVIT\n"
          ],
          "name": "stdout"
        }
      ]
    },
    {
      "metadata": {
        "id": "c0vHnb7COQ5a",
        "colab_type": "text"
      },
      "cell_type": "markdown",
      "source": [
        "# Imports"
      ]
    },
    {
      "metadata": {
        "id": "jkG_dJlXO8WO",
        "colab_type": "code",
        "colab": {
          "base_uri": "https://localhost:8080/",
          "height": 34
        },
        "outputId": "5e650273-bdd4-4771-ede1-2978444f20de"
      },
      "cell_type": "code",
      "source": [
        "import math\n",
        "\n",
        "math.pi"
      ],
      "execution_count": 7,
      "outputs": [
        {
          "output_type": "execute_result",
          "data": {
            "text/plain": [
              "3.141592653589793"
            ]
          },
          "metadata": {
            "tags": []
          },
          "execution_count": 7
        }
      ]
    },
    {
      "metadata": {
        "id": "GBDphxY6Pmxl",
        "colab_type": "code",
        "colab": {
          "base_uri": "https://localhost:8080/",
          "height": 34
        },
        "outputId": "159b72db-21d1-4c74-c11f-3ee56eba1771"
      },
      "cell_type": "code",
      "source": [
        "math.cos(math.pi/2) #Viendo el tamaño de error de calculo en Python"
      ],
      "execution_count": 8,
      "outputs": [
        {
          "output_type": "execute_result",
          "data": {
            "text/plain": [
              "6.123233995736766e-17"
            ]
          },
          "metadata": {
            "tags": []
          },
          "execution_count": 8
        }
      ]
    },
    {
      "metadata": {
        "id": "mtWH7S3dQDcv",
        "colab_type": "code",
        "colab": {
          "base_uri": "https://localhost:8080/",
          "height": 935
        },
        "outputId": "e251d612-f107-4f8c-92eb-7432d015e691"
      },
      "cell_type": "code",
      "source": [
        "from math import *\n",
        "\n",
        "\n",
        "dir(math) #Para ver todas las funciones disponibles en la libreria"
      ],
      "execution_count": 13,
      "outputs": [
        {
          "output_type": "execute_result",
          "data": {
            "text/plain": [
              "['__doc__',\n",
              " '__loader__',\n",
              " '__name__',\n",
              " '__package__',\n",
              " '__spec__',\n",
              " 'acos',\n",
              " 'acosh',\n",
              " 'asin',\n",
              " 'asinh',\n",
              " 'atan',\n",
              " 'atan2',\n",
              " 'atanh',\n",
              " 'ceil',\n",
              " 'copysign',\n",
              " 'cos',\n",
              " 'cosh',\n",
              " 'degrees',\n",
              " 'e',\n",
              " 'erf',\n",
              " 'erfc',\n",
              " 'exp',\n",
              " 'expm1',\n",
              " 'fabs',\n",
              " 'factorial',\n",
              " 'floor',\n",
              " 'fmod',\n",
              " 'frexp',\n",
              " 'fsum',\n",
              " 'gamma',\n",
              " 'gcd',\n",
              " 'hypot',\n",
              " 'inf',\n",
              " 'isclose',\n",
              " 'isfinite',\n",
              " 'isinf',\n",
              " 'isnan',\n",
              " 'ldexp',\n",
              " 'lgamma',\n",
              " 'log',\n",
              " 'log10',\n",
              " 'log1p',\n",
              " 'log2',\n",
              " 'modf',\n",
              " 'nan',\n",
              " 'pi',\n",
              " 'pow',\n",
              " 'radians',\n",
              " 'sin',\n",
              " 'sinh',\n",
              " 'sqrt',\n",
              " 'tan',\n",
              " 'tanh',\n",
              " 'tau',\n",
              " 'trunc']"
            ]
          },
          "metadata": {
            "tags": []
          },
          "execution_count": 13
        }
      ]
    },
    {
      "metadata": {
        "id": "MCk2XBAkRCyJ",
        "colab_type": "text"
      },
      "cell_type": "markdown",
      "source": [
        "# Data Types"
      ]
    },
    {
      "metadata": {
        "id": "RYQW2rEoRFjZ",
        "colab_type": "code",
        "colab": {
          "base_uri": "https://localhost:8080/",
          "height": 85
        },
        "outputId": "b1c0881b-37c6-4cf8-c033-0ae70e87ceec"
      },
      "cell_type": "code",
      "source": [
        "text_v = \"Curso\"\n",
        "\n",
        "print(type(text_v))\n",
        "\n",
        "int_v = 25\n",
        "\n",
        "print(type(int_v))\n",
        "\n",
        "bool_v = False \n",
        "\n",
        "print(type(bool_v))\n",
        "\n",
        "#Convirtiendo tipo de datos\n",
        "##Ejemplo de Booleano a Entero\n",
        "\n",
        "print('Cambiando el booleano : {}, a entero: {}'.format(bool_v,int(bool_v)))"
      ],
      "execution_count": 22,
      "outputs": [
        {
          "output_type": "stream",
          "text": [
            "<class 'str'>\n",
            "<class 'int'>\n",
            "<class 'bool'>\n",
            "Cambiando el booleano : False, a entero: 0\n"
          ],
          "name": "stdout"
        }
      ]
    }
  ]
}